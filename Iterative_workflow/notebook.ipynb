{
 "cells": [
  {
   "cell_type": "code",
   "execution_count": 121,
   "id": "d673dd09",
   "metadata": {},
   "outputs": [],
   "source": [
    "from langgraph.graph import StateGraph, START, END\n",
    "from typing import TypedDict, Literal"
   ]
  },
  {
   "cell_type": "code",
   "execution_count": 122,
   "id": "475b68bd",
   "metadata": {},
   "outputs": [],
   "source": [
    "class State(TypedDict):\n",
    "    number: int\n",
    "    result: str"
   ]
  },
  {
   "cell_type": "code",
   "execution_count": 123,
   "id": "79aae2bc",
   "metadata": {},
   "outputs": [],
   "source": [
    "graph = StateGraph(State)"
   ]
  },
  {
   "cell_type": "code",
   "execution_count": 124,
   "id": "d21f88b9",
   "metadata": {},
   "outputs": [],
   "source": [
    "def print_number(state: State) -> State:\n",
    "    print(f\"Initial number: {state['number']}\")\n",
    "    return state\n",
    "\n",
    "def decrement(state: State) -> State:\n",
    "    state['number'] = state['number'] - 1\n",
    "    return state\n",
    "\n",
    "def check_number(state: State):\n",
    "    if state['number'] <= 0:\n",
    "        state['result'] = \"Finished\"\n",
    "        return \"Finished\"\n",
    "    else:\n",
    "        state['result'] = \"decrement\"\n",
    "        return \"decrease_number\"\n",
    "\n",
    "def check_current_number(state: State) -> State:\n",
    "    print(f\"Current number: {state['number']}\")\n",
    "    return state"
   ]
  },
  {
   "cell_type": "code",
   "execution_count": 125,
   "id": "4d1f3ee4",
   "metadata": {},
   "outputs": [
    {
     "data": {
      "text/plain": [
       "<langgraph.graph.state.StateGraph at 0x1a4caaef620>"
      ]
     },
     "execution_count": 125,
     "metadata": {},
     "output_type": "execute_result"
    }
   ],
   "source": [
    "graph.add_node('print_number', print_number)\n",
    "graph.add_node('decrement', decrement)\n",
    "graph.add_node('check_number', check_current_number)"
   ]
  },
  {
   "cell_type": "code",
   "execution_count": 126,
   "id": "bdba0ff3",
   "metadata": {},
   "outputs": [
    {
     "data": {
      "text/plain": [
       "<langgraph.graph.state.StateGraph at 0x1a4caaef620>"
      ]
     },
     "execution_count": 126,
     "metadata": {},
     "output_type": "execute_result"
    }
   ],
   "source": [
    "graph.add_edge(START, 'print_number')\n",
    "graph.add_edge('print_number', 'decrement')\n",
    "graph.add_edge('decrement', 'check_number')\n",
    "graph.add_conditional_edges('check_number', check_number, {\n",
    "    \"Finished\": END,\n",
    "    \"decrease_number\": 'decrement'\n",
    "})\n"
   ]
  },
  {
   "cell_type": "code",
   "execution_count": 127,
   "id": "36186349",
   "metadata": {},
   "outputs": [],
   "source": [
    "workflow = graph.compile()"
   ]
  },
  {
   "cell_type": "code",
   "execution_count": 128,
   "id": "9c89494d",
   "metadata": {},
   "outputs": [
    {
     "data": {
      "image/png": "[encoded data removed]",
      "text/plain": [
       "<IPython.core.display.Image object>"
      ]
     },
     "execution_count": 128,
     "metadata": {},
     "output_type": "execute_result"
    }
   ],
   "source": [
    "# to visualize the graph, you can use the following code\n",
    "from IPython.display import Image\n",
    "Image(workflow.get_graph().draw_mermaid_png())"
   ]
  },
  {
   "cell_type": "code",
   "execution_count": 129,
   "id": "d8ce41f6",
   "metadata": {},
   "outputs": [
    {
     "name": "stdout",
     "output_type": "stream",
     "text": [
      "Initial number: 5\n",
      "Current number: 4\n",
      "Current number: 3\n",
      "Current number: 2\n",
      "Current number: 1\n",
      "Current number: 0\n"
     ]
    }
   ],
   "source": [
    "initial_state = {\"number\": 5}\n",
    "result = workflow.invoke(initial_state)"
   ]
  },
  {
   "cell_type": "code",
   "execution_count": null,
   "id": "1e16477c",
   "metadata": {},
   "outputs": [],
   "source": []
  }
 ],
 "metadata": {
  "kernelspec": {
   "display_name": "Python 3",
   "language": "python",
   "name": "python3"
  },
  "language_info": {
   "codemirror_mode": {
    "name": "ipython",
    "version": 3
   },
   "file_extension": ".py",
   "mimetype": "text/x-python",
   "name": "python",
   "nbconvert_exporter": "python",
   "pygments_lexer": "ipython3",
   "version": "3.12.10"
  }
 },
 "nbformat": 4,
 "nbformat_minor": 5
}
