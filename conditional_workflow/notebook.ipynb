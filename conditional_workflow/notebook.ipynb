{
 "cells": [
  {
   "cell_type": "code",
   "execution_count": 11,
   "id": "f70f0d9b",
   "metadata": {},
   "outputs": [],
   "source": [
    "from langgraph.graph import StateGraph, START, END\n",
    "from typing import TypedDict, Literal"
   ]
  },
  {
   "cell_type": "code",
   "execution_count": 12,
   "id": "6bbb998c",
   "metadata": {},
   "outputs": [],
   "source": [
    "class State(TypedDict):\n",
    "    number: int\n",
    "    result: str"
   ]
  },
  {
   "cell_type": "code",
   "execution_count": 13,
   "id": "8a1fcbc4",
   "metadata": {},
   "outputs": [],
   "source": [
    "graph = StateGraph(State)"
   ]
  },
  {
   "cell_type": "code",
   "execution_count": 14,
   "id": "7a418848",
   "metadata": {},
   "outputs": [],
   "source": [
    "def check_number(state: State) -> State:\n",
    "    if state['number'] < 0:\n",
    "        raise ValueError(\"Number must be non-negative.\")\n",
    "    return state\n",
    "\n",
    "def number_classify(state: State) -> Literal[\"even_action\", \"odd_action\"]:\n",
    "    if state['number'] % 2 == 0:\n",
    "        return \"even_action\"\n",
    "    else:\n",
    "        return \"odd_action\"\n",
    "    \n",
    "def even_action(state: State) -> State:\n",
    "    state['result'] = f\"The number {state['number']} is even.\"\n",
    "    return state\n",
    "\n",
    "def odd_action(state: State) -> State:\n",
    "    state['result'] = f\"The number {state['number']} is odd.\"\n",
    "    return state"
   ]
  },
  {
   "cell_type": "code",
   "execution_count": 15,
   "id": "c72d7202",
   "metadata": {},
   "outputs": [
    {
     "data": {
      "text/plain": [
       "<langgraph.graph.state.StateGraph at 0x17a4690b620>"
      ]
     },
     "execution_count": 15,
     "metadata": {},
     "output_type": "execute_result"
    }
   ],
   "source": [
    "graph.add_node('check_number', check_number)\n",
    "graph.add_node('even_action', even_action)\n",
    "graph.add_node('odd_action', odd_action)"
   ]
  },
  {
   "cell_type": "code",
   "execution_count": 16,
   "id": "75aec811",
   "metadata": {},
   "outputs": [
    {
     "data": {
      "text/plain": [
       "<langgraph.graph.state.StateGraph at 0x17a4690b620>"
      ]
     },
     "execution_count": 16,
     "metadata": {},
     "output_type": "execute_result"
    }
   ],
   "source": [
    "# one tricky thing make sure you have a seperate func to define the check_number logic bcoz check_number should return the state and conditional edge should return the next node\n",
    "# if you put the logic in the same function it will not work\n",
    "graph.add_edge(START, 'check_number')\n",
    "graph.add_conditional_edges('check_number', number_classify)\n",
    "graph.add_edge('even_action', END)\n",
    "graph.add_edge('odd_action', END)   "
   ]
  },
  {
   "cell_type": "code",
   "execution_count": 17,
   "id": "f1b84376",
   "metadata": {},
   "outputs": [],
   "source": [
    "workflow = graph.compile()"
   ]
  },
  {
   "cell_type": "code",
   "execution_count": 18,
   "id": "c6d7482e",
   "metadata": {},
   "outputs": [
    {
     "data": {
      "image/png": "[encoded data removed]",
      "text/plain": [
       "<IPython.core.display.Image object>"
      ]
     },
     "execution_count": 18,
     "metadata": {},
     "output_type": "execute_result"
    }
   ],
   "source": [
    "# to visualize the graph, you can use the following code\n",
    "from IPython.display import Image\n",
    "Image(workflow.get_graph().draw_mermaid_png())"
   ]
  },
  {
   "cell_type": "code",
   "execution_count": 19,
   "id": "7f2323cf",
   "metadata": {},
   "outputs": [
    {
     "name": "stdout",
     "output_type": "stream",
     "text": [
      "Final state: {'number': 41, 'result': 'The number 41 is odd.'}\n"
     ]
    }
   ],
   "source": [
    "initial_state = {'number': 41}\n",
    "result = workflow.invoke(initial_state)    \n",
    "print(\"Final state:\", result)"
   ]
  },
  {
   "cell_type": "code",
   "execution_count": null,
   "id": "aa5a68e8",
   "metadata": {},
   "outputs": [],
   "source": []
  },
  {
   "cell_type": "code",
   "execution_count": null,
   "id": "b771b3a8",
   "metadata": {},
   "outputs": [],
   "source": []
  }
 ],
 "metadata": {
  "kernelspec": {
   "display_name": "Python 3",
   "language": "python",
   "name": "python3"
  },
  "language_info": {
   "codemirror_mode": {
    "name": "ipython",
    "version": 3
   },
   "file_extension": ".py",
   "mimetype": "text/x-python",
   "name": "python",
   "nbconvert_exporter": "python",
   "pygments_lexer": "ipython3",
   "version": "3.12.10"
  }
 },
 "nbformat": 4,
 "nbformat_minor": 5
}
